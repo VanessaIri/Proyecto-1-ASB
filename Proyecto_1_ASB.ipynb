{
  "nbformat": 4,
  "nbformat_minor": 0,
  "metadata": {
    "colab": {
      "provenance": [],
      "authorship_tag": "ABX9TyOvAHtUL405WTDFDnWTL5Ve",
      "include_colab_link": true
    },
    "kernelspec": {
      "name": "python3",
      "display_name": "Python 3"
    },
    "language_info": {
      "name": "python"
    }
  },
  "cells": [
    {
      "cell_type": "markdown",
      "metadata": {
        "id": "view-in-github",
        "colab_type": "text"
      },
      "source": [
        "<a href=\"https://colab.research.google.com/github/VanessaIri/Proyecto-1-ASB/blob/main/Proyecto_1_ASB.ipynb\" target=\"_parent\"><img src=\"https://colab.research.google.com/assets/colab-badge.svg\" alt=\"Open In Colab\"/></a>"
      ]
    },
    {
      "cell_type": "code",
      "execution_count": null,
      "metadata": {
        "id": "pDpfScLFlvWN"
      },
      "outputs": [],
      "source": [
        "#Importar las librerías correspondientes\n",
        "import numpy as np\n",
        "import matplotlib.pyplot as plt\n",
        "import matplotlib as mpl\n",
        "from pandas import read_csv"
      ]
    },
    {
      "cell_type": "code",
      "source": [
        "#código para leer archivo csv\n",
        "!pip install -U -q PyDrive\n",
        "from pydrive.auth import GoogleAuth\n",
        "from pydrive.drive import GoogleDrive\n",
        "from google.colab import auth\n",
        "from oauth2client.client import GoogleCredentials\n",
        "\n",
        "# Authenticate and create the PyDrive client.\n",
        "auth.authenticate_user()\n",
        "gauth = GoogleAuth()\n",
        "gauth.credentials = GoogleCredentials.get_application_default()\n",
        "drive = GoogleDrive(gauth)\n",
        "\n",
        "#obtener el archivo\n",
        "downloaded=drive.CreateFile({'id':'1TIWdv3yskJWkLj4-1Z_Y8EDC4tyjItQh'})\n",
        "downloaded.GetContentFile('Datosp1.csv')"
      ],
      "metadata": {
        "id": "ACLRO8j_sUIa"
      },
      "execution_count": null,
      "outputs": []
    },
    {
      "cell_type": "code",
      "source": [
        "#leer el archivo en csv indicando que no hay encabezados\n",
        "data = read_csv('Datosp1.csv',header=None, delimiter=',')"
      ],
      "metadata": {
        "id": "dtXThClIsmJH"
      },
      "execution_count": null,
      "outputs": []
    },
    {
      "cell_type": "code",
      "source": [
        "data.shape #corroborar tamaño de matriz de datos"
      ],
      "metadata": {
        "id": "GfudtKRZtD1t"
      },
      "execution_count": null,
      "outputs": []
    },
    {
      "cell_type": "code",
      "source": [
        "#Por gusto personal se transpone la matriz de datos\n",
        "datos=data.to_numpy()\n",
        "Datos=np.transpose(datos)\n",
        "Datos.shape[1]"
      ],
      "metadata": {
        "id": "-C_8Mm24w4MK"
      },
      "execution_count": null,
      "outputs": []
    },
    {
      "cell_type": "code",
      "source": [
        "#Por conveniencia de cálculos se realiza una matriz de 0s con dos columnas más grande que los datos\n",
        "Data=np.zeros((48,370))\n",
        "Data[: , 1:369]=Datos #se sustituyen los 0s de la columna 1 a la 368 por los datos dados, columna 0 y 369 se quedan en 0s \n",
        "Data"
      ],
      "metadata": {
        "id": "gazElyL_xFFV"
      },
      "execution_count": null,
      "outputs": []
    },
    {
      "cell_type": "code",
      "source": [
        "Data.shape[1]"
      ],
      "metadata": {
        "id": "w5w6q2E2W9Nh"
      },
      "execution_count": null,
      "outputs": []
    },
    {
      "cell_type": "code",
      "source": [
        "#Autocorrelación de la matriz de mediciones\n",
        "n = 368\n",
        "R = np.zeros((48,2*n-1)) #se inicializa una matriz de 0s para guardar las autocorrelaciones\n",
        "for k in range(-n+1, n): #cálculo de autocorrelaciones para toda la matriz de datos, \n",
        "  L1=Data[: , 1:-1-abs(k)]    #basado en el estimador de Childers se obtiene cada una de las 48 autocorrelaciones\n",
        "  L2=Data[: , 1+abs(k):-1]\n",
        "  R[: , 367+k] = R[: , 367+k] + np.multiply(np.sum(np.multiply(L1,L2), axis=1), 1/n)  #matriz de autocorrelaciones\n",
        " "
      ],
      "metadata": {
        "id": "pswQOv5NLRy7"
      },
      "execution_count": null,
      "outputs": []
    },
    {
      "cell_type": "code",
      "source": [
        "R[0] #ejemplo de primer autocorrelación"
      ],
      "metadata": {
        "id": "4Scv_s9s5_vt"
      },
      "execution_count": null,
      "outputs": []
    },
    {
      "cell_type": "code",
      "source": [
        "#Graficas de (Autocorelacion), obtiene las 48 autocorrelaciones en subfiguras\n",
        "fig= plt.figure(figsize=(40, 70))\n",
        "fig.tight_layout()\n",
        "\n",
        "for i in range(1,49):\n",
        "  x=np.arange(-367,368)            #Lags\n",
        "  y=R[i-1]                         #Valores de autocorrelacion\n",
        "  ax= plt.subplot(12,4,i)\n",
        "  ax.plot(x,y, color='magenta')\n",
        "  ax.set_xlabel('Lag', fontsize=10)\n",
        "  ax.set_ylabel('Valor', fontsize=10)\n",
        "  ax.set_title('Autocorrelación de Medición '+str(i), fontsize=14)\n"
      ],
      "metadata": {
        "id": "V67ksKdTkFiF"
      },
      "execution_count": null,
      "outputs": []
    },
    {
      "cell_type": "code",
      "source": [
        "# Cálculo de la Autocorrelación Promedio \n",
        "r=np.zeros((735)) \n",
        "for i in range(0,48):\n",
        "  r=r+R[i]   #suma los 48 vectores de autocorrelacion con sus 735 datos correspondientes\n",
        "\n",
        "rr=r/48  #autocorrelacion promedio \n"
      ],
      "metadata": {
        "id": "J6KpGxG_I5y0"
      },
      "execution_count": null,
      "outputs": []
    },
    {
      "cell_type": "code",
      "source": [
        "#Grafica de autocorrelacion promedio\n",
        "plt.figure(figsize=(10, 10))\n",
        "plt.subplot(2, 1, 1)\n",
        "plt.plot(list(range(-367,368)),rr)\n",
        "plt.ylabel('Magnitud')\n",
        "plt.xlabel('Lag')\n",
        "plt.title('Autocorrelación Promedio')\n",
        "plt.show()"
      ],
      "metadata": {
        "id": "XmzC6gsjKYQJ"
      },
      "execution_count": null,
      "outputs": []
    },
    {
      "cell_type": "code",
      "source": [
        "#Espectro de la autocorrelación promedio\n",
        "Srr= abs(np.fft.fftshift(np.fft.fft(rr)))  #transformada de fourier para calcular espectro\n",
        "\n",
        "plt.figure(figsize=(10, 10))\n",
        "plt.subplot(2, 1, 1)\n",
        "plt.plot(np.multiply((160/735),np.array(range(-367,368))),Srr) #grafica para el rango de frecuencias correspondiente -80 a 80\n",
        "plt.ylabel('Magnitud')\n",
        "plt.xlabel('Frecuencia (Hz)')\n",
        "plt.title('Espectro de autocorrelación promedio')\n",
        "#plt.xlim(-12,12)\n",
        "plt.show()"
      ],
      "metadata": {
        "id": "_4fEizvtNrmM"
      },
      "execution_count": null,
      "outputs": []
    },
    {
      "cell_type": "code",
      "source": [
        "# medición promedio\n",
        "x=np.zeros((370))\n",
        "for i in range(0,48):\n",
        "  x=x+Data[i]\n",
        "\n",
        "xProm=x/48\n"
      ],
      "metadata": {
        "id": "RzKGDEuMPWo8"
      },
      "execution_count": null,
      "outputs": []
    },
    {
      "cell_type": "code",
      "source": [
        "#autocorrelación de medición promedio\n",
        "n = 368\n",
        "RR = np.zeros((2*n-1))\n",
        "for k in range(-n+1, n):    #se emplea el estimador de childers\n",
        "  l1=xProm[1:-1-abs(k)]\n",
        "  l2=xProm[1+abs(k):-1]\n",
        "  RR[367+k] = RR[367+k] + np.multiply(np.sum(np.multiply(l1,l2)), 1/n)"
      ],
      "metadata": {
        "id": "QTfnJ_cPQUjE"
      },
      "execution_count": null,
      "outputs": []
    },
    {
      "cell_type": "code",
      "source": [
        "#Gráfica de autocorrelación de medición promedio\n",
        "plt.figure(figsize=(10, 10))\n",
        "plt.subplot(2, 1, 1)\n",
        "plt.plot(list(range(-367,368)),RR)\n",
        "plt.ylabel('Magnitud')\n",
        "plt.xlabel('Lag')\n",
        "plt.title('Autocorrelación de medición promedio')\n",
        "plt.show()"
      ],
      "metadata": {
        "id": "et5gyM8uRZny"
      },
      "execution_count": null,
      "outputs": []
    },
    {
      "cell_type": "code",
      "source": [
        "#Espectro de la autocorrelación con medición promedio\n",
        "SxProm= abs(np.fft.fftshift(np.fft.fft(RR)))   #Transformada de Fourier\n",
        "\n",
        "plt.figure(figsize=(12, 12))\n",
        "plt.subplot(2, 1, 1)\n",
        "plt.plot(np.multiply((160/735),np.array(range(-367,368))),SxProm) #grafica para el rango de frecuencias correspondiente -80 a 80\n",
        "plt.ylabel('Magnitud')\n",
        "plt.xlabel('Frecuencia (Hz)')\n",
        "plt.title('Espectro de autocorrelación con medición promedio')\n",
        "#plt.xticks(ticks=list(range(-80,80)))\n",
        "#plt.xlim(-20,20)\n",
        "plt.show()\n"
      ],
      "metadata": {
        "id": "j7cquNsjSoKQ"
      },
      "execution_count": null,
      "outputs": []
    },
    {
      "cell_type": "code",
      "source": [
        "#Comparación de los espectros obtenidos\n",
        "plt.figure(figsize=(15, 15))\n",
        "plt.subplot(2, 1, 1)\n",
        "plt.plot(np.multiply((160/735),np.array(range(-367,368))),SxProm,'c') #espectro de la autocorrelación del promedio de los datos\n",
        "plt.plot(np.multiply((160/735),np.array(range(-367,368))),Srr,'m') #espectro de la autocorrelación promedio\n",
        "plt.ylabel('Magnitud')\n",
        "plt.xlabel('Frecuencia (Hz)')\n",
        "plt.title('Espectros de autocorrelación')\n",
        "#plt.xticks(ticks=list(range(-80,80)))\n",
        "#plt.xlim(-15,15)  #Acercamiento a los datos\n",
        "plt.show()\n"
      ],
      "metadata": {
        "id": "wGVabJmjUVgZ"
      },
      "execution_count": null,
      "outputs": []
    },
    {
      "cell_type": "code",
      "source": [],
      "metadata": {
        "id": "vQmsuOXJmb2V"
      },
      "execution_count": null,
      "outputs": []
    },
    {
      "cell_type": "markdown",
      "source": [
        "https://fisiologia.facmed.unam.mx/index.php/fisiologia-de-la-actividad-electrica-del-cerebro/\n",
        "\n",
        "http://neurofisiologiagranada.com/eeg/eeg-comoselee.htm \n",
        "\n",
        "https://www.acnweb.org/guia/g7cap17.pdf"
      ],
      "metadata": {
        "id": "5c5reDAnmcRe"
      }
    },
    {
      "cell_type": "code",
      "source": [],
      "metadata": {
        "id": "TFi008DHyY6h"
      },
      "execution_count": null,
      "outputs": []
    },
    {
      "cell_type": "markdown",
      "source": [
        "Elegiria la 2 ya que parece ser que se cancela tipo ruido y queda una senal maslimpia mas facil de observar los picos altos de potencia\n",
        "El rango va de -13 a 13 aproximadamente lo que indica que la frecuencia es entonces de aprox 26 que son ondas beta, se debe de encontrar en vigilia con\n",
        "actividad mental y preferentemente se observa en regiones anteriores (frontales). Su distribución es fronto-central y puede haber reactividad ante estímulos táctiles y actividad motora de las extremidades contralaterales. "
      ],
      "metadata": {
        "id": "1C9rjJkUyZyl"
      }
    }
  ]
}